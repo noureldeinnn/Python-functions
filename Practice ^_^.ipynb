{
 "cells": [
  {
   "cell_type": "markdown",
   "metadata": {},
   "source": [
    "# Calculating Average of Numbers Using Functions"
   ]
  },
  {
   "cell_type": "code",
   "execution_count": 1,
   "metadata": {},
   "outputs": [
    {
     "name": "stdout",
     "output_type": "stream",
     "text": [
      "The average of the numbers is: 30.0\n"
     ]
    }
   ],
   "source": [
    "def calculate_average(numbers):\n",
    "    if len(numbers) == 0:\n",
    "        return \"The list is empty, cannot calculate average.\"\n",
    "    return sum(numbers) / len(numbers)\n",
    "\n",
    "numbers_list = [10, 20, 30, 40, 50]\n",
    "average = calculate_average(numbers_list)\n",
    "\n",
    "print(f\"The average of the numbers is: {average}\")"
   ]
  },
  {
   "cell_type": "markdown",
   "metadata": {},
   "source": [
    "# Finding the Longest Word in a List"
   ]
  },
  {
   "cell_type": "code",
   "execution_count": 2,
   "metadata": {},
   "outputs": [
    {
     "name": "stdout",
     "output_type": "stream",
     "text": [
      "The longest word is: blueberry\n"
     ]
    }
   ],
   "source": [
    "def find_longest_word(words):\n",
    "    if not words:\n",
    "        return \"The list is empty.\"\n",
    "    return max(words, key=len)\n",
    "\n",
    "words_list = [\"apple\", \"banana\", \"cherry\", \"blueberry\", \"kiwi\"]\n",
    "longest_word = find_longest_word(words_list)\n",
    "\n",
    "print(f\"The longest word is: {longest_word}\")"
   ]
  },
  {
   "cell_type": "markdown",
   "metadata": {},
   "source": [
    "# Checking if a Number is Prime"
   ]
  },
  {
   "cell_type": "code",
   "execution_count": 2,
   "metadata": {},
   "outputs": [
    {
     "name": "stdout",
     "output_type": "stream",
     "text": [
      "20 is not a prime number.\n"
     ]
    }
   ],
   "source": [
    "def check_prime():\n",
    "    number = int(input(\"Enter a number to check if it is prime: \"))\n",
    "    if number <= 1:\n",
    "        return f\"{number} is not a prime number.\"\n",
    "    for i in range(2, int(number**0.5) + 1):\n",
    "        if number % i == 0:\n",
    "            return f\"{number} is not a prime number.\"\n",
    "    return f\"{number} is a prime number.\"\n",
    "\n",
    "result = check_prime()\n",
    "print(result)"
   ]
  },
  {
   "cell_type": "markdown",
   "metadata": {},
   "source": []
  },
  {
   "cell_type": "markdown",
   "metadata": {},
   "source": [
    "# Converting Temperature Units"
   ]
  },
  {
   "cell_type": "code",
   "execution_count": 3,
   "metadata": {},
   "outputs": [
    {
     "name": "stdout",
     "output_type": "stream",
     "text": [
      "Choose the conversion type:\n",
      "1: Celsius to Fahrenheit\n",
      "2: Fahrenheit to Celsius\n",
      "20.0°C = 68.0°F\n"
     ]
    }
   ],
   "source": [
    "def convert_fahrenheit_celsius():\n",
    "    print(\"Choose the conversion type:\")\n",
    "    print(\"1: Celsius to Fahrenheit\")\n",
    "    print(\"2: Fahrenheit to Celsius\")\n",
    "    \n",
    "    choice = int(input(\"Enter your choice (1-2): \"))\n",
    "    temperature = float(input(\"Enter the temperature to convert: \"))\n",
    "    \n",
    "    if choice == 1:\n",
    "        result = (temperature * 9/5) + 32\n",
    "        return f\"{temperature}°C = {result}°F\"\n",
    "    elif choice == 2:\n",
    "        result = (temperature - 32) * 5/9\n",
    "        return f\"{temperature}°F = {result}°C\"\n",
    "    else:\n",
    "        return \"Invalid choice.\"\n",
    "\n",
    "result = convert_fahrenheit_celsius()\n",
    "print(result)\n"
   ]
  },
  {
   "cell_type": "markdown",
   "metadata": {},
   "source": []
  },
  {
   "cell_type": "markdown",
   "metadata": {},
   "source": [
    "# Generating a List of Squares Using List Comprehension and Functions"
   ]
  },
  {
   "cell_type": "markdown",
   "metadata": {},
   "source": []
  },
  {
   "cell_type": "code",
   "execution_count": null,
   "metadata": {},
   "outputs": [
    {
     "name": "stdout",
     "output_type": "stream",
     "text": [
      "The list of squares from 1 to 5 is: [1, 4, 9, 16, 25]\n"
     ]
    }
   ],
   "source": [
    "def generate_squares(n):\n",
    "    return [x**2 for x in range(1, n+1)]\n",
    "\n",
    "# Example usage\n",
    "limit = int(input(\"Enter the number up to which squares are needed: \"))\n",
    "squares_list = generate_squares(limit)\n",
    "\n",
    "print(f\"The list of squares from 1 to {limit} is: {squares_list}\")\n"
   ]
  },
  {
   "cell_type": "markdown",
   "metadata": {},
   "source": [
    "\n",
    "# Converting a List of Strings to Uppercase"
   ]
  },
  {
   "cell_type": "code",
   "execution_count": 5,
   "metadata": {},
   "outputs": [
    {
     "name": "stdout",
     "output_type": "stream",
     "text": [
      "Original list: ['hello', 'world', 'python', 'programming']\n",
      "Uppercase list: ['HELLO', 'WORLD', 'PYTHON', 'PROGRAMMING']\n"
     ]
    }
   ],
   "source": [
    "def convert_to_uppercase(strings):\n",
    "    return [string.upper() for string in strings]\n",
    "\n",
    "# Example usage\n",
    "words = [\"hello\", \"world\", \"python\", \"programming\"]\n",
    "uppercase_words = convert_to_uppercase(words)\n",
    "\n",
    "print(f\"Original list: {words}\")\n",
    "print(f\"Uppercase list: {uppercase_words}\")\n"
   ]
  },
  {
   "cell_type": "markdown",
   "metadata": {},
   "source": []
  },
  {
   "cell_type": "markdown",
   "metadata": {},
   "source": [
    "# Calculating the Total Price Including Tax\n"
   ]
  },
  {
   "cell_type": "markdown",
   "metadata": {},
   "source": []
  },
  {
   "cell_type": "code",
   "execution_count": 6,
   "metadata": {},
   "outputs": [
    {
     "name": "stdout",
     "output_type": "stream",
     "text": [
      "The total price including a 14.0% tax is: 136.80\n"
     ]
    }
   ],
   "source": [
    "def calculate_total_price(price, tax_rate):\n",
    "    total_price = price + (price * tax_rate / 100)\n",
    "    return total_price\n",
    "\n",
    "# Example usage\n",
    "price = float(input(\"Enter the price of the item: \"))\n",
    "tax_rate = float(input(\"Enter the tax rate (as a percentage): \"))\n",
    "total = calculate_total_price(price, tax_rate)\n",
    "\n",
    "print(f\"The total price including a {tax_rate}% tax is: {total:.2f}\")\n"
   ]
  },
  {
   "cell_type": "markdown",
   "metadata": {},
   "source": [
    "# Finding the Minimum and Maximum Values in a List"
   ]
  },
  {
   "cell_type": "markdown",
   "metadata": {},
   "source": []
  },
  {
   "cell_type": "code",
   "execution_count": 7,
   "metadata": {},
   "outputs": [
    {
     "name": "stdout",
     "output_type": "stream",
     "text": [
      "The minimum value is: 1\n",
      "The maximum value is: 9\n"
     ]
    }
   ],
   "source": [
    "def find_min_max(numbers):\n",
    "    if not numbers:\n",
    "        return \"The list is empty.\"\n",
    "    return min(numbers), max(numbers)\n",
    "\n",
    "# Example usage\n",
    "numbers_list = [3, 7, 2, 9, 4, 1]\n",
    "min_value, max_value = find_min_max(numbers_list)\n",
    "\n",
    "print(f\"The minimum value is: {min_value}\")\n",
    "print(f\"The maximum value is: {max_value}\")\n"
   ]
  },
  {
   "cell_type": "markdown",
   "metadata": {},
   "source": [
    "# Checking if a String is a Valid Email Address"
   ]
  },
  {
   "cell_type": "markdown",
   "metadata": {},
   "source": []
  },
  {
   "cell_type": "code",
   "execution_count": 9,
   "metadata": {},
   "outputs": [
    {
     "name": "stdout",
     "output_type": "stream",
     "text": [
      "n.elweteedy@gmail.com is a valid email address.\n"
     ]
    }
   ],
   "source": [
    "def is_valid_email(email):\n",
    "    if \"@\" not in email or email.count(\"@\") != 1:\n",
    "        return f\"{email} is not a valid email address. (Missing or multiple '@')\"\n",
    "    \n",
    "    local_part, domain = email.split(\"@\")\n",
    "    \n",
    "    if not local_part or not domain:\n",
    "        return f\"{email} is not a valid email address. (Missing local part or domain)\"\n",
    "    \n",
    "    if \".\" not in domain or domain.startswith(\".\") or domain.endswith(\".\"):\n",
    "        return f\"{email} is not a valid email address. (Invalid domain format)\"\n",
    "    \n",
    "    return f\"{email} is a valid email address.\"\n",
    "\n",
    "# Example usage\n",
    "email_address = input(\"Enter an email address to validate: \")\n",
    "print(is_valid_email(email_address))\n"
   ]
  },
  {
   "cell_type": "markdown",
   "metadata": {},
   "source": [
    "# Counting the Frequency of Each Character in a String"
   ]
  },
  {
   "cell_type": "code",
   "execution_count": 8,
   "metadata": {},
   "outputs": [
    {
     "name": "stdout",
     "output_type": "stream",
     "text": [
      "Character frequencies:\n",
      "'h': 1\n",
      "'e': 1\n",
      "'l': 3\n",
      "'o': 1\n"
     ]
    }
   ],
   "source": [
    "def count_character_frequency(string):\n",
    "    frequency = {}\n",
    "    for char in string:\n",
    "        frequency[char] = frequency.get(char, 0) + 1\n",
    "    return frequency\n",
    "\n",
    "# Example usage\n",
    "input_string = input(\"Enter a string: \")\n",
    "char_frequency = count_character_frequency(input_string)\n",
    "\n",
    "print(\"Character frequencies:\")\n",
    "for char, freq in char_frequency.items():\n",
    "    print(f\"'{char}': {freq}\")\n"
   ]
  }
 ],
 "metadata": {
  "kernelspec": {
   "display_name": "base",
   "language": "python",
   "name": "python3"
  },
  "language_info": {
   "codemirror_mode": {
    "name": "ipython",
    "version": 3
   },
   "file_extension": ".py",
   "mimetype": "text/x-python",
   "name": "python",
   "nbconvert_exporter": "python",
   "pygments_lexer": "ipython3",
   "version": "3.11.5"
  }
 },
 "nbformat": 4,
 "nbformat_minor": 4
}
